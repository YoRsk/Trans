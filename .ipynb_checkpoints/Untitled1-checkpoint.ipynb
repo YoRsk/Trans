{
 "cells": [
  {
   "cell_type": "code",
   "execution_count": null,
   "id": "2e36452a-c934-4918-b0b8-6fd205e00a60",
   "metadata": {},
   "outputs": [],
   "source": [
    "import rasterio\n",
    "\n",
    "# Replace 'multispectral_image.tif' with the path to your image file\n",
    "image_file = 'multispectral_image.tif'\n",
    "\n",
    "with rasterio.open(image_file) as src:\n",
    "    multi_spectral_data = src.read()\n",
    "    profile = src.profile\n",
    "    transform = src.transform\n"
   ]
  }
 ],
 "metadata": {
  "kernelspec": {
   "display_name": "Python 3 (ipykernel)",
   "language": "python",
   "name": "python3"
  },
  "language_info": {
   "codemirror_mode": {
    "name": "ipython",
    "version": 3
   },
   "file_extension": ".py",
   "mimetype": "text/x-python",
   "name": "python",
   "nbconvert_exporter": "python",
   "pygments_lexer": "ipython3",
   "version": "3.9.12"
  }
 },
 "nbformat": 4,
 "nbformat_minor": 5
}
